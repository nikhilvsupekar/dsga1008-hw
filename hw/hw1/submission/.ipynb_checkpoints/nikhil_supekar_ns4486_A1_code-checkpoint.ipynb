{
 "cells": [
  {
   "cell_type": "code",
   "execution_count": 36,
   "metadata": {
    "colab": {},
    "colab_type": "code",
    "id": "EyJt4yZIQAem"
   },
   "outputs": [],
   "source": [
    "# Import dependencies\n",
    "import random\n",
    "import numpy as np\n",
    "import torch\n",
    "import torch.nn as nn\n",
    "\n",
    "# You can find Alfredo's plotting code in plot_lib.py in this directory .\n",
    "# Download it along with this assignment and keep it in the same directory.\n",
    "from plot_lib import set_default, show_scatterplot, plot_bases\n",
    "\n",
    "from matplotlib.pyplot import plot, title, axis\n",
    "\n",
    "from time import perf_counter"
   ]
  },
  {
   "cell_type": "code",
   "execution_count": 37,
   "metadata": {
    "colab": {},
    "colab_type": "code",
    "id": "VTHDQFHFQAeq"
   },
   "outputs": [],
   "source": [
    "# Set up your device \n",
    "cuda = torch.cuda.is_available()\n",
    "device = torch.device(\"cuda:0\" if cuda else \"cpu\")"
   ]
  },
  {
   "cell_type": "code",
   "execution_count": 38,
   "metadata": {
    "colab": {},
    "colab_type": "code",
    "id": "exqe27QXQAet"
   },
   "outputs": [],
   "source": [
    "# Set up random seed to 1008. Do not change the random seed.\n",
    "# Yes, these are all necessary when you run experiments!\n",
    "\n",
    "def set_random_seed(seed):\n",
    "    random.seed(seed)\n",
    "    np.random.seed(seed)\n",
    "    torch.manual_seed(seed)\n",
    "\n",
    "set_random_seed(1008)\n",
    "if cuda:\n",
    "    torch.cuda.manual_seed(seed)\n",
    "    torch.cuda.manual_seed_all(seed)\n",
    "    torch.backends.cudnn.benchmark = False\n",
    "    torch.backends.cudnn.deterministic = True"
   ]
  },
  {
   "cell_type": "markdown",
   "metadata": {
    "colab_type": "text",
    "id": "7krs-4XOQAev"
   },
   "source": [
    "# 1. Full, slice, fill\n",
    "Write a function `warm_up` that returns the 2D tensor with integers below. **Do not use any loops**.\n",
    "\n",
    "```\n",
    "1 2 1 1 1 1 2 1 1 1 1 2 1\n",
    "2 2 2 2 2 2 2 2 2 2 2 2 2\n",
    "1 2 1 1 1 1 2 1 1 1 1 2 1\n",
    "1 2 1 3 3 1 2 1 3 3 1 2 1\n",
    "1 2 1 3 3 1 2 1 3 3 1 2 1\n",
    "1 2 1 1 1 1 2 1 1 1 1 2 1\n",
    "2 2 2 2 2 2 2 2 2 2 2 2 2\n",
    "1 2 1 1 1 1 2 1 1 1 1 2 1\n",
    "1 2 1 3 3 1 2 1 3 3 1 2 1\n",
    "1 2 1 3 3 1 2 1 3 3 1 2 1\n",
    "1 2 1 1 1 1 2 1 1 1 1 2 1\n",
    "2 2 2 2 2 2 2 2 2 2 2 2 2\n",
    "1 2 1 1 1 1 2 1 1 1 1 2 1\n",
    "```\n",
    "\n",
    "\n",
    "Hint: Use `torch.full`, `torch.fill_`, and the slicing operator."
   ]
  },
  {
   "cell_type": "code",
   "execution_count": 39,
   "metadata": {
    "colab": {},
    "colab_type": "code",
    "id": "JsFk9OUoQAew"
   },
   "outputs": [
    {
     "name": "stdout",
     "output_type": "stream",
     "text": [
      "tensor([[1., 2., 1., 1., 1., 1., 2., 1., 1., 1., 1., 2., 1.],\n",
      "        [2., 2., 2., 2., 2., 2., 2., 2., 2., 2., 2., 2., 2.],\n",
      "        [1., 2., 1., 1., 1., 1., 2., 1., 1., 1., 1., 2., 1.],\n",
      "        [1., 2., 1., 3., 3., 1., 2., 1., 3., 3., 1., 2., 1.],\n",
      "        [1., 2., 1., 3., 3., 1., 2., 1., 3., 3., 1., 2., 1.],\n",
      "        [1., 2., 1., 1., 1., 1., 2., 1., 1., 1., 1., 2., 1.],\n",
      "        [2., 2., 2., 2., 2., 2., 2., 2., 2., 2., 2., 2., 2.],\n",
      "        [1., 2., 1., 1., 1., 1., 2., 1., 1., 1., 1., 2., 1.],\n",
      "        [1., 2., 1., 3., 3., 1., 2., 1., 3., 3., 1., 2., 1.],\n",
      "        [1., 2., 1., 3., 3., 1., 2., 1., 3., 3., 1., 2., 1.],\n",
      "        [1., 2., 1., 1., 1., 1., 2., 1., 1., 1., 1., 2., 1.],\n",
      "        [2., 2., 2., 2., 2., 2., 2., 2., 2., 2., 2., 2., 2.],\n",
      "        [1., 2., 1., 1., 1., 1., 2., 1., 1., 1., 1., 2., 1.]])\n"
     ]
    }
   ],
   "source": [
    "def warm_up():\n",
    "    x = torch.full((13, 13), 1)\n",
    "    \n",
    "    x[:, 1] = x[1, :] = 2\n",
    "    x[:, 6] = x[6, :] = 2\n",
    "    x[:, 11] = x[11, :] = 2\n",
    "    \n",
    "    x[3:5, 3:5] = x[3:5, 8:10] = x[8:10, 3:5] = x[8:10, 8:10] = 3\n",
    "    \n",
    "    return x\n",
    "\n",
    "# Uncomment line below once you implement this function. \n",
    "print(warm_up())"
   ]
  },
  {
   "cell_type": "markdown",
   "metadata": {
    "colab_type": "text",
    "id": "E8ivZVl5QAez"
   },
   "source": [
    "# 2. To Loop or not to loop\n",
    "\n",
    "The motivation for the following three sub-questions is to get you to think critically about how to write your deep learning code. These sorts of choices can make the difference between tractable and intractable model training."
   ]
  },
  {
   "cell_type": "markdown",
   "metadata": {
    "colab_type": "text",
    "id": "mxGRJK4-QAe0"
   },
   "source": [
    "## 2.1. `mul_row_loop`\n",
    "Write a function `mul_row_loop`, using python loops with simple indexing but no advanced indexing/slicing, that receives a 2D tensor as input and returns a tensor of same size that is \n",
    "- equal to the input on the first row\n",
    "- 2 times the input's second row on the second row\n",
    "- 3 times the input's third row on the third row\n",
    "- etc..\n",
    "\n",
    "For instance:\n",
    "```\n",
    ">>> t = torch.full((4, 8), 2.0)\n",
    ">>> t\n",
    "tensor([[2., 2., 2., 2., 2., 2., 2., 2.],\n",
    "[2., 2., 2., 2., 2., 2., 2., 2.],\n",
    "[2., 2., 2., 2., 2., 2., 2., 2.],\n",
    "[2., 2., 2., 2., 2., 2., 2., 2.]])\n",
    ">>> mul_row(t)\n",
    "tensor([[2., 2., 2., 2., 2., 2., 2., 2.],\n",
    "[4., 4., 4., 4., 4., 4., 4., 4.],\n",
    "[6., 6., 6., 6., 6., 6., 6., 6.],\n",
    "[8., 8., 8., 8., 8., 8., 8., 8.]])\n",
    "```"
   ]
  },
  {
   "cell_type": "code",
   "execution_count": 40,
   "metadata": {
    "colab": {},
    "colab_type": "code",
    "id": "5YIAg1mlQAe0"
   },
   "outputs": [],
   "source": [
    "def mul_row_loop(input_tensor):\n",
    "    rows = input_tensor.size()[0]\n",
    "    cols = input_tensor.size()[1]\n",
    "    output_tensor = torch.full((rows, cols), 1)\n",
    "    \n",
    "    for i in range(rows):\n",
    "        for j in range(cols):\n",
    "            output_tensor[i, j] = input_tensor[i, j] * (i + 1)\n",
    "    \n",
    "    return output_tensor"
   ]
  },
  {
   "cell_type": "markdown",
   "metadata": {
    "colab_type": "text",
    "id": "ycMZbO2HQAe3"
   },
   "source": [
    "# 2.2. `mul_row_fast`\n",
    "Write a second version of the same function named `mul_row_fast` which uses tensor operations and no looping.\n",
    "\n",
    "**Hint**: Use broadcasting and `torch.arange`, `torch.view`, and `torch.mul`."
   ]
  },
  {
   "cell_type": "code",
   "execution_count": 41,
   "metadata": {
    "colab": {},
    "colab_type": "code",
    "id": "5V3Q-GX8QAe3"
   },
   "outputs": [],
   "source": [
    "def mul_row_fast(input_tensor):\n",
    "    num_rows = input_tensor.size()[0]\n",
    "    x = torch.arange(1, num_rows + 1).view(num_rows, 1)\n",
    "    return input_tensor.mul(x)"
   ]
  },
  {
   "cell_type": "markdown",
   "metadata": {
    "colab_type": "text",
    "id": "6MWuVzVQQAe7"
   },
   "source": [
    "# 2.3. `times`\n",
    "Write a function `times` which takes a 2D tensor as input and returns the run times of `mul_row_loop` and `mul_row_fast` on this tensor, respectively. Use `time.perf_counter`.\n",
    "\n",
    "Use `torch.ones` to create a 2D tensor of size (1000, 400) full of ones and run `times` on it (there should be more than two orders of magnitude difference)."
   ]
  },
  {
   "cell_type": "code",
   "execution_count": 42,
   "metadata": {
    "colab": {},
    "colab_type": "code",
    "id": "vlOKGDMJQAe8"
   },
   "outputs": [
    {
     "name": "stdout",
     "output_type": "stream",
     "text": [
      "5.5979539290000275, 0.00035807199992632377\n"
     ]
    }
   ],
   "source": [
    "from time import perf_counter\n",
    "def times(input_tensor):\n",
    "    t1 = perf_counter()\n",
    "    mul_row_loop(input_tensor)\n",
    "    t2 = perf_counter()\n",
    "    mul_row_fast(input_tensor)\n",
    "    t3 = perf_counter()\n",
    "    \n",
    "    return t2 - t1, t3 - t2\n",
    "\n",
    "# Uncomment lines below once you implement this function. \n",
    "input_tensor = torch.ones(1000, 400)\n",
    "time_1, time_2 = times(input_tensor)\n",
    "print('{}, {}'.format(time_1, time_2))"
   ]
  },
  {
   "cell_type": "markdown",
   "metadata": {
    "colab_type": "text",
    "id": "yn_FXad8QAe_"
   },
   "source": [
    "# 3. Non-linearities\n",
    "\n",
    "In this section, we explore similar concepts to Lab 1 and get comfortable initializing modules like nn.Linear and using non-linearities in PyTorch."
   ]
  },
  {
   "cell_type": "markdown",
   "metadata": {
    "colab_type": "text",
    "id": "19a6rMNeQAe_"
   },
   "source": [
    "## 3.1. ReLU\n",
    "ReLU (Rectified Linear Unit) is a non-linear activation fuction defined as:\n",
    "\n",
    "$$y = \\mathrm{max}(0,x)$$\n",
    "\n",
    "Define a fully connected neural network `linear_fc_relu` which:\n",
    "- takes 2 dimensional data as input and passes it through linear modules (`torch.nn.Linear`)\n",
    "- has one hidden layer of dimension 5 \n",
    "- has output dimension of 2\n",
    "- has ReLu as an activation function\n",
    "\n",
    "Create a tensor with input data $X$ of size (100, 2) using `torch.randn`. \n",
    "\n",
    "Following the example in https://github.com/Atcold/pytorch-Deep-Learning-Minicourse/blob/master/02-space_stretching.ipynb, visualize the output of passing `X` through the neural network `linear_fc_relu`.\n",
    "\n",
    "You can find Alfredo's plotting code in plot_lib.py in this directory. Download it along with this assignment and keep it in the same directory."
   ]
  },
  {
   "cell_type": "code",
   "execution_count": 43,
   "metadata": {
    "colab": {},
    "colab_type": "code",
    "id": "XX0oEX98QAfA"
   },
   "outputs": [],
   "source": [
    "# Input data\n",
    "set_random_seed(1008)\n",
    "X = torch.randn(100, 2)"
   ]
  },
  {
   "cell_type": "code",
   "execution_count": 44,
   "metadata": {},
   "outputs": [
    {
     "data": {
      "text/plain": [
       "tensor([[ 0.5351,  0.4460],\n",
       "        [-0.0407, -1.4725],\n",
       "        [-0.7663,  0.7248],\n",
       "        [ 1.1123,  0.5937],\n",
       "        [ 0.3493, -0.1416],\n",
       "        [-0.1586,  0.1759],\n",
       "        [-0.0831,  0.5946],\n",
       "        [-1.4345,  0.8154],\n",
       "        [-1.4552,  1.3225],\n",
       "        [-0.8443,  0.2586],\n",
       "        [ 1.9784,  1.1543],\n",
       "        [-0.9700,  1.3774],\n",
       "        [-0.9205, -0.9915],\n",
       "        [ 0.3049,  0.5891],\n",
       "        [ 0.4694,  0.1647],\n",
       "        [ 0.6714, -1.5394],\n",
       "        [ 0.7372, -0.6245],\n",
       "        [ 0.4421, -0.3087],\n",
       "        [-1.6279,  0.0543],\n",
       "        [-0.7368,  0.7300],\n",
       "        [-0.6288,  0.6048],\n",
       "        [-1.4858,  0.3276],\n",
       "        [-0.5081,  0.8420],\n",
       "        [-0.7740,  0.5919],\n",
       "        [ 0.6727,  1.5376],\n",
       "        [ 1.6066,  0.8986],\n",
       "        [ 0.2429,  0.4754],\n",
       "        [-1.4314, -0.0134],\n",
       "        [-0.5809, -0.2957],\n",
       "        [-0.6027,  1.1658],\n",
       "        [-0.2156, -0.8116],\n",
       "        [-1.0760, -0.4028],\n",
       "        [ 0.8231, -0.0865],\n",
       "        [-0.3251,  0.8525],\n",
       "        [ 0.5541,  0.1283],\n",
       "        [-0.4515,  1.6839],\n",
       "        [-1.6332,  0.6976],\n",
       "        [-0.0863, -0.6600],\n",
       "        [-0.7896, -0.3630],\n",
       "        [ 0.2667,  0.2982],\n",
       "        [-0.8652, -0.1895],\n",
       "        [ 0.8222, -0.5772],\n",
       "        [-0.1716, -0.3703],\n",
       "        [ 0.4595,  1.9763],\n",
       "        [ 0.6188,  0.2411],\n",
       "        [ 1.3061,  1.4140],\n",
       "        [-0.2461, -0.7580],\n",
       "        [-0.5687, -0.1750],\n",
       "        [-1.3994, -0.4722],\n",
       "        [ 0.4255, -0.9536],\n",
       "        [ 0.7789, -2.4268],\n",
       "        [ 1.3026,  0.3009],\n",
       "        [ 1.2876, -0.2296],\n",
       "        [-0.1069, -1.3947],\n",
       "        [ 1.3005, -1.2457],\n",
       "        [ 0.1857,  0.5173],\n",
       "        [-1.0280, -1.8887],\n",
       "        [-0.1683,  0.4770],\n",
       "        [-0.5623,  2.5029],\n",
       "        [-0.0096,  1.1841],\n",
       "        [ 0.2795,  1.2128],\n",
       "        [ 0.9041, -1.2691],\n",
       "        [-0.0076, -0.8694],\n",
       "        [-1.5041,  1.6537],\n",
       "        [-1.8307,  0.0622],\n",
       "        [-1.1583,  0.4941],\n",
       "        [-0.7712, -0.1230],\n",
       "        [-0.0905,  0.2216],\n",
       "        [ 0.8914,  0.3663],\n",
       "        [ 0.4389,  0.3308],\n",
       "        [-2.1364,  0.4279],\n",
       "        [-0.8191, -0.8615],\n",
       "        [-0.7587,  0.9886],\n",
       "        [ 0.0209,  1.6608],\n",
       "        [ 0.6207, -2.3268],\n",
       "        [ 0.6092, -0.1889],\n",
       "        [ 0.2768, -0.5463],\n",
       "        [-0.2542,  1.1055],\n",
       "        [ 0.0996,  1.1571],\n",
       "        [ 0.5216,  1.8717],\n",
       "        [-1.0177, -1.4514],\n",
       "        [-0.1579,  0.2678],\n",
       "        [ 0.6465, -0.6385],\n",
       "        [-1.3286, -0.9782],\n",
       "        [-0.8644, -0.9408],\n",
       "        [-0.2931, -1.3013],\n",
       "        [ 1.0867, -0.4047],\n",
       "        [-1.1335, -0.8359],\n",
       "        [ 0.9413,  1.1308],\n",
       "        [ 0.7394, -0.3820],\n",
       "        [-0.5083,  1.2064],\n",
       "        [ 0.4101, -0.5427],\n",
       "        [ 0.6871, -2.6262],\n",
       "        [-1.2070,  0.9337],\n",
       "        [ 0.5508,  0.9296],\n",
       "        [ 0.6150, -0.4284],\n",
       "        [ 0.4780,  0.4724],\n",
       "        [ 1.2083,  0.0449],\n",
       "        [ 1.4368,  1.2606],\n",
       "        [-0.2800,  1.1934]])"
      ]
     },
     "execution_count": 44,
     "metadata": {},
     "output_type": "execute_result"
    }
   ],
   "source": [
    "X"
   ]
  },
  {
   "cell_type": "code",
   "execution_count": 45,
   "metadata": {
    "colab": {},
    "colab_type": "code",
    "id": "zf-DCcGEQAfI"
   },
   "outputs": [
    {
     "data": {
      "image/png": "[encoded data removed]",
      "text/plain": [
       "<Figure size 432x288 with 1 Axes>"
      ]
     },
     "metadata": {
      "needs_background": "light"
     },
     "output_type": "display_data"
    },
    {
     "data": {
      "image/png": "[encoded data removed]",
      "text/plain": [
       "<Figure size 432x288 with 1 Axes>"
      ]
     },
     "metadata": {
      "needs_background": "light"
     },
     "output_type": "display_data"
    }
   ],
   "source": [
    "# create 1-layer neural networks with ReLU activation\n",
    "set_random_seed(1008)\n",
    "linear_fc_relu = nn.Sequential(\n",
    "    nn.Linear(2, 5),\n",
    "    nn.ReLU(),\n",
    "    nn.Linear(5, 2)\n",
    ")\n",
    "\n",
    "linear_fc_relu.to(device)\n",
    "\n",
    "with torch.no_grad():\n",
    "    Y = linear_fc_relu(X)\n",
    "show_scatterplot(X, X[:, 0], title='f(x)')\n",
    "show_scatterplot(Y, X[:, 0], title='f(x)')"
   ]
  },
  {
   "cell_type": "markdown",
   "metadata": {
    "colab_type": "text",
    "id": "RSznMa6rQAfL"
   },
   "source": [
    "## 3.2. Sigmoid\n",
    "The sigmoid function is another popular choice for a non-linear activation function which maps its input to values in the interval $(0,1)$. It is formally defined as:\n",
    "\n",
    "$$\\sigma(x) = \\frac{1}{1+ exp[-x]}$$\n",
    "\n",
    "Define a new neural network `linear_fc_sigmoid` which is the same architecture as in part `3.1.` but with a sigmoid unit instead of ReLU. \n",
    "\n",
    "Using the same $X$ as in part `3.1`, visualize the output of passing `X` through the neural network `linear_fc_sigmoid`."
   ]
  },
  {
   "cell_type": "code",
   "execution_count": 47,
   "metadata": {
    "colab": {},
    "colab_type": "code",
    "id": "5xg3uBHNQAfM"
   },
   "outputs": [
    {
     "data": {
      "image/png": "[encoded data removed]",
      "text/plain": [
       "<Figure size 432x288 with 1 Axes>"
      ]
     },
     "metadata": {
      "needs_background": "light"
     },
     "output_type": "display_data"
    },
    {
     "data": {
      "image/png": "[encoded data removed]",
      "text/plain": [
       "<Figure size 432x288 with 1 Axes>"
      ]
     },
     "metadata": {
      "needs_background": "light"
     },
     "output_type": "display_data"
    }
   ],
   "source": [
    "# create 1-layer neural networks with Sigmoid activation\n",
    "set_random_seed(1008)\n",
    "linear_fc_sigmoid = nn.Sequential(\n",
    "    nn.Linear(2, 5),\n",
    "    nn.Sigmoid(),\n",
    "    nn.Linear(5, 2)\n",
    ")\n",
    "\n",
    "linear_fc_sigmoid.to(device)\n",
    "\n",
    "with torch.no_grad():\n",
    "    Y = linear_fc_sigmoid(X)\n",
    "show_scatterplot(X, X[:, 0], title='f(x)')\n",
    "show_scatterplot(Y, X[:, 0], title='f(x)')"
   ]
  }
 ],
 "metadata": {
  "colab": {
   "name": "DS-GA-1008-HW_assignment_1.ipynb",
   "provenance": [],
   "version": "0.3.2"
  },
  "kernelspec": {
   "display_name": "Python 3",
   "language": "python",
   "name": "python3"
  },
  "language_info": {
   "codemirror_mode": {
    "name": "ipython",
    "version": 3
   },
   "file_extension": ".py",
   "mimetype": "text/x-python",
   "name": "python",
   "nbconvert_exporter": "python",
   "pygments_lexer": "ipython3",
   "version": "3.7.3"
  }
 },
 "nbformat": 4,
 "nbformat_minor": 1
}
