{
 "cells": [
  {
   "cell_type": "code",
   "execution_count": 2,
   "metadata": {
    "colab": {},
    "colab_type": "code",
    "id": "n1rRYMF_okBY"
   },
   "outputs": [],
   "source": [
    "# Import dependencies\n",
    "import torch\n",
    "import torch.nn as nn\n",
    "from plot_lib import set_default, show_scatterplot, plot_bases\n",
    "import matplotlib.pyplot as plt\n",
    "import random\n",
    "import numpy as np"
   ]
  },
  {
   "cell_type": "code",
   "execution_count": 3,
   "metadata": {
    "colab": {},
    "colab_type": "code",
    "id": "YkaTWgU3okBc"
   },
   "outputs": [],
   "source": [
    "# Set up your device \n",
    "cuda = torch.cuda.is_available()\n",
    "device = torch.device(\"cuda:0\" if cuda else \"cpu\")"
   ]
  },
  {
   "cell_type": "code",
   "execution_count": 4,
   "metadata": {
    "colab": {},
    "colab_type": "code",
    "id": "_zcS-H-mokBe"
   },
   "outputs": [],
   "source": [
    "# Set up random seed to 1008. Do not change the random seed.\n",
    "# Yes, these are all necessary when you run experiments!\n",
    "seed = 1008\n",
    "random.seed(seed)\n",
    "np.random.seed(seed)\n",
    "torch.manual_seed(seed)\n",
    "if cuda:\n",
    "    torch.cuda.manual_seed(seed)\n",
    "    torch.cuda.manual_seed_all(seed)\n",
    "    torch.backends.cudnn.benchmark = False\n",
    "    torch.backends.cudnn.deterministic = True"
   ]
  },
  {
   "cell_type": "code",
   "execution_count": 5,
   "metadata": {
    "colab": {},
    "colab_type": "code",
    "id": "64jNfD5UokBh"
   },
   "outputs": [],
   "source": [
    "# Define data generating functions\n",
    "def quadratic_data_generator(data_size):\n",
    "    # f(x) = y = x^2 + 4x - 3\n",
    "    # generate an input tensor of size data_size with torch.randn\n",
    "    x = torch.randn(data_size, 1) - 2   \n",
    "    x = x.to(device)\n",
    "    y = x ** 2 + 4 * x - 3\n",
    "    return x,y\n",
    "\n",
    "def cubic_data_generator(data_size=100):\n",
    "    # f(x) = y = x^3 + 4x^2 - 3\n",
    "    # generate an input tensor of size data_size with torch.randn\n",
    "    x = torch.randn(data_size, 1) - 2   \n",
    "    x = x.to(device)\n",
    "    y = x ** 3 + 4 * (x ** 2) - 3\n",
    "    return x, y"
   ]
  },
  {
   "cell_type": "code",
   "execution_count": 6,
   "metadata": {
    "colab": {},
    "colab_type": "code",
    "id": "_zcCkt40okBj"
   },
   "outputs": [
    {
     "data": {
      "image/png": "[encoded data removed]",
      "text/plain": [
       "<Figure size 432x288 with 1 Axes>"
      ]
     },
     "metadata": {
      "needs_background": "light"
     },
     "output_type": "display_data"
    }
   ],
   "source": [
    "# Generate the data with 128 datapoints\n",
    "x, y = quadratic_data_generator(128)\n",
    "plt.scatter(x,y)\n",
    "plt.show()"
   ]
  },
  {
   "cell_type": "code",
   "execution_count": 33,
   "metadata": {
    "colab": {},
    "colab_type": "code",
    "id": "rn1TqPoHokBt"
   },
   "outputs": [],
   "source": [
    "# Define a Linear Classifier with a single linear layer and no non-linearity\n",
    "# (no hidden layer)\n",
    "class Linear_0H(nn.Module):\n",
    "    def __init__(self):\n",
    "        super().__init__()\n",
    "\n",
    "        self.classifier = nn.Sequential(\n",
    "            nn.Linear(1, 1)\n",
    "        )\n",
    "\n",
    "    def forward(self, x):\n",
    "        return self.classifier(x)"
   ]
  },
  {
   "cell_type": "code",
   "execution_count": 36,
   "metadata": {
    "colab": {},
    "colab_type": "code",
    "id": "In6FSCPzokBv"
   },
   "outputs": [],
   "source": [
    "# Define a Linear Classifier with a single hidden layer of size 5 and ReLU non-linearity\n",
    "class Linear_1H(nn.Module):\n",
    "    def __init__(self):\n",
    "        super().__init__()\n",
    "\n",
    "        # TODO\n",
    "        self.classifier = nn.Sequential(\n",
    "            nn.Linear(1, 5),\n",
    "            nn.ReLU(),\n",
    "            nn.Linear(5, 1)\n",
    "        )\n",
    "\n",
    "    def forward(self, x):\n",
    "        return self.classifier(x)"
   ]
  },
  {
   "cell_type": "code",
   "execution_count": 37,
   "metadata": {
    "colab": {},
    "colab_type": "code",
    "id": "pzRNs4M1okBx"
   },
   "outputs": [],
   "source": [
    "# Define a Linear Classifier with a two hidden layers of size 5 and ReLU non-linearity\n",
    "class Linear_2H(nn.Module):\n",
    "    def __init__(self):\n",
    "        super().__init__()\n",
    "\n",
    "        # TODO\n",
    "        self.classifier = nn.Sequential(\n",
    "            nn.Linear(1, 5),\n",
    "            nn.ReLU(),\n",
    "            nn.Linear(5, 5),\n",
    "            nn.ReLU(),\n",
    "            nn.Linear(5, 5),\n",
    "            nn.ReLU(),\n",
    "            nn.Linear(5, 1)\n",
    "        )\n",
    "\n",
    "    def forward(self, x):\n",
    "        return self.classifier(x)"
   ]
  },
  {
   "cell_type": "code",
   "execution_count": 31,
   "metadata": {
    "colab": {},
    "colab_type": "code",
    "id": "M_vRsu4BokBz"
   },
   "outputs": [],
   "source": [
    "'''\n",
    "TODO: Training function\n",
    "\n",
    "Hint: look at some example pytorch tutorials to learn how to\n",
    "    - initialize optimizers\n",
    "    - zero gradient\n",
    "    - backprop the loss\n",
    "    - step the gradient\n",
    "\n",
    "\n",
    "Note: This is full batch. We compute forward on whole x,y.\n",
    "No need for dataloaders nor loop over batches. \n",
    "Just pass all of x to model's forward pass.\n",
    "'''\n",
    "def train(model, epochs, x, y):\n",
    "    \n",
    "    # Set model to training mode\n",
    "    model.train()\n",
    "    \n",
    "    # Define MSE loss function\n",
    "    criterion = torch.nn.MSELoss()\n",
    "    \n",
    "    # TODO: Define the SGD optimizer with learning rate 0.01\n",
    "    optimizer = torch.optim.SGD(model.parameters(), lr=0.01)\n",
    "    \n",
    "    for epoch in range(epochs):\n",
    "        \n",
    "        # TODO: Forward data through model to predict y\n",
    "        y_pred = model(x)\n",
    "        \n",
    "        # TODO: Compute loss in terms of predicted and true y\n",
    "        loss = criterion(y_pred, y)\n",
    "\n",
    "        # TODO: Zero gradient\n",
    "        optimizer.zero_grad()\n",
    "        \n",
    "        # TODO: call backward on loss\n",
    "        loss.backward()\n",
    "        \n",
    "        # TODO: step the optimizer\n",
    "        optimizer.step()\n",
    "        \n",
    "        # every 100 epochs, print\n",
    "        if (epoch+1) % 100 == 0:\n",
    "            print('Epoch {} loss: {}'.format(epoch+1, loss.item()))\n",
    "            \n",
    "    # return y_pred without gradient information, for plotting\n",
    "    return y_pred.detach()"
   ]
  },
  {
   "cell_type": "code",
   "execution_count": 34,
   "metadata": {
    "colab": {},
    "colab_type": "code",
    "id": "lx_EMETookB1",
    "outputId": "91eb5402-4009-437b-a601-ff6b73dcd5d7"
   },
   "outputs": [
    {
     "name": "stdout",
     "output_type": "stream",
     "text": [
      "Epoch 100 loss: 3.3841917514801025\n",
      "Epoch 200 loss: 2.38427996635437\n",
      "Epoch 300 loss: 1.8482362031936646\n",
      "Epoch 400 loss: 1.5608686208724976\n",
      "Epoch 500 loss: 1.4068135023117065\n",
      "Epoch 600 loss: 1.3242257833480835\n",
      "Epoch 700 loss: 1.2799509763717651\n",
      "Epoch 800 loss: 1.2562156915664673\n",
      "Epoch 900 loss: 1.243491291999817\n",
      "Epoch 1000 loss: 1.236669898033142\n"
     ]
    },
    {
     "data": {
      "image/png": "[encoded data removed]",
      "text/plain": [
       "<Figure size 432x288 with 1 Axes>"
      ]
     },
     "metadata": {
      "needs_background": "light"
     },
     "output_type": "display_data"
    }
   ],
   "source": [
    "# 0H model on quadratic data\n",
    "model = Linear_0H()\n",
    "y_pred = train(model, epochs=1000, x=x, y=y)\n",
    "\n",
    "# Plot predictions vs actual data\n",
    "plt.scatter(x, y)\n",
    "plt.scatter(x, y_pred)\n",
    "plt.show()"
   ]
  },
  {
   "cell_type": "code",
   "execution_count": 38,
   "metadata": {
    "colab": {},
    "colab_type": "code",
    "id": "m6HIEi6fokB-",
    "outputId": "74b3a7ef-1cc1-4629-e6ec-fb0594a1cb98"
   },
   "outputs": [
    {
     "name": "stdout",
     "output_type": "stream",
     "text": [
      "Epoch 100 loss: 2.0218899250030518\n",
      "Epoch 200 loss: 1.24767005443573\n",
      "Epoch 300 loss: 1.2289516925811768\n",
      "Epoch 400 loss: 1.22878897190094\n",
      "Epoch 500 loss: 1.2287873029708862\n",
      "Epoch 600 loss: 1.2287871837615967\n",
      "Epoch 700 loss: 1.2287871837615967\n",
      "Epoch 800 loss: 1.2287871837615967\n",
      "Epoch 900 loss: 1.2287871837615967\n",
      "Epoch 1000 loss: 1.2287871837615967\n"
     ]
    },
    {
     "data": {
      "image/png": "[encoded data removed]",
      "text/plain": [
       "<Figure size 432x288 with 1 Axes>"
      ]
     },
     "metadata": {
      "needs_background": "light"
     },
     "output_type": "display_data"
    }
   ],
   "source": [
    "# 1H model on quadratic data\n",
    "model = Linear_1H()\n",
    "y_pred = train(model, epochs=1000, x=x, y=y)\n",
    "plt.scatter(x, y)\n",
    "plt.scatter(x, y_pred)\n",
    "plt.show()"
   ]
  },
  {
   "cell_type": "code",
   "execution_count": 39,
   "metadata": {
    "colab": {},
    "colab_type": "code",
    "id": "_j-_jgS2okCC",
    "outputId": "9319d725-cb7c-4c39-f3fe-d80e1577e150"
   },
   "outputs": [
    {
     "name": "stdout",
     "output_type": "stream",
     "text": [
      "Epoch 100 loss: 1.2784205675125122\n",
      "Epoch 200 loss: 1.0354541540145874\n",
      "Epoch 300 loss: 0.6645718216896057\n",
      "Epoch 400 loss: 0.33587217330932617\n",
      "Epoch 500 loss: 0.23737822473049164\n",
      "Epoch 600 loss: 0.23054292798042297\n",
      "Epoch 700 loss: 0.3323044180870056\n",
      "Epoch 800 loss: 0.2016439288854599\n",
      "Epoch 900 loss: 0.28776562213897705\n",
      "Epoch 1000 loss: 0.160337895154953\n"
     ]
    },
    {
     "data": {
      "image/png": "[encoded data removed]",
      "text/plain": [
       "<Figure size 432x288 with 1 Axes>"
      ]
     },
     "metadata": {
      "needs_background": "light"
     },
     "output_type": "display_data"
    }
   ],
   "source": [
    "# 2H model on quadratic data\n",
    "model = Linear_2H()\n",
    "y_pred = train(model, epochs=1000, x=x, y=y)\n",
    "plt.scatter(x, y)\n",
    "plt.scatter(x, y_pred)\n",
    "plt.show()"
   ]
  },
  {
   "cell_type": "code",
   "execution_count": 40,
   "metadata": {
    "colab": {},
    "colab_type": "code",
    "id": "e6P6Ta2ookCF"
   },
   "outputs": [],
   "source": [
    "# Generate cubic data with 128 data points\n",
    "x, y = cubic_data_generator(128)"
   ]
  },
  {
   "cell_type": "code",
   "execution_count": 41,
   "metadata": {
    "colab": {},
    "colab_type": "code",
    "id": "JPGQsaiVokCI",
    "outputId": "074f4aa8-d004-4b76-ccd6-73e230e717f9"
   },
   "outputs": [
    {
     "name": "stdout",
     "output_type": "stream",
     "text": [
      "Epoch 100 loss: 11.193708419799805\n",
      "Epoch 200 loss: 11.012495994567871\n",
      "Epoch 300 loss: 10.923691749572754\n",
      "Epoch 400 loss: 10.880172729492188\n",
      "Epoch 500 loss: 10.858845710754395\n",
      "Epoch 600 loss: 10.848394393920898\n",
      "Epoch 700 loss: 10.843274116516113\n",
      "Epoch 800 loss: 10.840763092041016\n",
      "Epoch 900 loss: 10.839534759521484\n",
      "Epoch 1000 loss: 10.8389310836792\n"
     ]
    },
    {
     "data": {
      "image/png": "[encoded data removed]",
      "text/plain": [
       "<Figure size 432x288 with 1 Axes>"
      ]
     },
     "metadata": {
      "needs_background": "light"
     },
     "output_type": "display_data"
    }
   ],
   "source": [
    "# 0H model on cubic data\n",
    "model = Linear_0H()\n",
    "y_pred = train(model, epochs=1000, x=x, y=y)\n",
    "plt.scatter(x, y)\n",
    "plt.scatter(x, y_pred)\n",
    "plt.show()"
   ]
  },
  {
   "cell_type": "code",
   "execution_count": 42,
   "metadata": {
    "colab": {},
    "colab_type": "code",
    "id": "68JxHOz8okCL",
    "outputId": "92564c1f-b02f-4e2d-ec15-3177a63733ee"
   },
   "outputs": [
    {
     "name": "stdout",
     "output_type": "stream",
     "text": [
      "Epoch 100 loss: 10.946550369262695\n",
      "Epoch 200 loss: 10.878843307495117\n",
      "Epoch 300 loss: 10.855002403259277\n",
      "Epoch 400 loss: 10.847617149353027\n",
      "Epoch 500 loss: 10.8451566696167\n",
      "Epoch 600 loss: 10.844088554382324\n",
      "Epoch 700 loss: 10.84350299835205\n",
      "Epoch 800 loss: 10.843052864074707\n",
      "Epoch 900 loss: 10.842679977416992\n",
      "Epoch 1000 loss: 10.842371940612793\n"
     ]
    },
    {
     "data": {
      "image/png": "[encoded data removed]",
      "text/plain": [
       "<Figure size 432x288 with 1 Axes>"
      ]
     },
     "metadata": {
      "needs_background": "light"
     },
     "output_type": "display_data"
    }
   ],
   "source": [
    "# 1H model on cubic data\n",
    "model = Linear_1H()\n",
    "y_pred = train(model, epochs=1000, x=x, y=y)\n",
    "plt.scatter(x, y)\n",
    "plt.scatter(x, y_pred)\n",
    "plt.show()"
   ]
  },
  {
   "cell_type": "code",
   "execution_count": 43,
   "metadata": {
    "colab": {},
    "colab_type": "code",
    "id": "zQCOjn_AokCP",
    "outputId": "822feb80-83b1-4a20-9fb4-776a69655cc5"
   },
   "outputs": [
    {
     "name": "stdout",
     "output_type": "stream",
     "text": [
      "Epoch 100 loss: 10.23365592956543\n",
      "Epoch 200 loss: 6.841737270355225\n",
      "Epoch 300 loss: 3.76893949508667\n",
      "Epoch 400 loss: 3.3301198482513428\n",
      "Epoch 500 loss: 0.3330429792404175\n",
      "Epoch 600 loss: 0.2208479344844818\n",
      "Epoch 700 loss: 0.3407149016857147\n",
      "Epoch 800 loss: 0.17217488586902618\n",
      "Epoch 900 loss: 0.39063385128974915\n",
      "Epoch 1000 loss: 0.22193093597888947\n"
     ]
    },
    {
     "data": {
      "image/png": "[encoded data removed]",
      "text/plain": [
       "<Figure size 432x288 with 1 Axes>"
      ]
     },
     "metadata": {
      "needs_background": "light"
     },
     "output_type": "display_data"
    }
   ],
   "source": [
    "# 2H model on cubic data\n",
    "model = Linear_2H()\n",
    "y_pred = train(model, epochs=1000, x=x, y=y)\n",
    "plt.scatter(x, y)\n",
    "plt.scatter(x, y_pred)\n",
    "plt.show()"
   ]
  },
  {
   "cell_type": "code",
   "execution_count": null,
   "metadata": {},
   "outputs": [],
   "source": []
  }
 ],
 "metadata": {
  "colab": {
   "collapsed_sections": [],
   "name": "DS-GA-1008-HW_assignment_2_master.ipynb",
   "provenance": [],
   "version": "0.3.2"
  },
  "kernelspec": {
   "display_name": "Python 3",
   "language": "python",
   "name": "python3"
  },
  "language_info": {
   "codemirror_mode": {
    "name": "ipython",
    "version": 3
   },
   "file_extension": ".py",
   "mimetype": "text/x-python",
   "name": "python",
   "nbconvert_exporter": "python",
   "pygments_lexer": "ipython3",
   "version": "3.7.3"
  }
 },
 "nbformat": 4,
 "nbformat_minor": 1
}
